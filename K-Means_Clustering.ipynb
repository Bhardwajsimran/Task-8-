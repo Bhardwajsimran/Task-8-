# Import necessary libraries
import pandas as pd
import matplotlib.pyplot as plt
from sklearn.cluster import KMeans
from sklearn.metrics import silhouette_score
from sklearn.preprocessing import StandardScaler

# Load dataset
df = pd.read_csv('Mall_Customers.csv')  # Ensure this CSV is in your working directory

# Display first few rows to understand data structure
print(df.head())

# Select relevant features for clustering
X = df[['Annual Income (k$)', 'Spending Score (1-100)']]

# Standardize features to bring them to the same scale
scaler = StandardScaler()
X_scaled = scaler.fit_transform(X)

# Elbow Method: Determine optimal number of clusters (K)
inertia = []
k_range = range(1, 11)  # Testing K from 1 to 10

for k in k_range:
    kmeans = KMeans(n_clusters=k, random_state=42)
    kmeans.fit(X_scaled)
    inertia.append(kmeans.inertia_)  # Sum of squared distances to closest cluster center

# Plot the elbow curve
plt.figure(figsize=(8, 5))
plt.plot(k_range, inertia, 'bo-')
plt.xlabel('Number of Clusters (K)')
plt.ylabel('Inertia')
plt.title('Elbow Method for Optimal K')
plt.grid(True)
plt.show()

# Based on the elbow plot, choose the optimal number of clusters
k_optimal = 5

# Apply KMeans clustering with the chosen K
kmeans = KMeans(n_clusters=k_optimal, random_state=42)
labels = kmeans.fit_predict(X_scaled)

# Add cluster labels to the original dataframe
df['Cluster'] = labels

# Visualize the clusters with distinct colors
plt.figure(figsize=(8, 5))
colors = ['red', 'blue', 'green', 'cyan', 'magenta']
for cluster in range(k_optimal):
    plt.scatter(
        X_scaled[labels == cluster, 0], 
        X_scaled[labels == cluster, 1], 
        s=50, 
        c=colors[cluster], 
        label=f'Cluster {cluster + 1}'
    )

# Plot centroids
plt.scatter(kmeans.cluster_centers_[:, 0], kmeans.cluster_centers_[:, 1],
            s=300, c='yellow', marker='X', label='Centroids', edgecolor='black')

plt.title('Customer Segments (K-Means Clustering)')
plt.xlabel('Annual Income (scaled)')
plt.ylabel('Spending Score (scaled)')
plt.legend()
plt.grid(True)
plt.show()

# Evaluate clustering quality with Silhouette Score
score = silhouette_score(X_scaled, labels)
print(f'Silhouette Score: {score:.2f}')
